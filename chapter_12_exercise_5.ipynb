{
 "cells": [
  {
   "cell_type": "code",
   "execution_count": 1,
   "metadata": {},
   "outputs": [
    {
     "name": "stdout",
     "output_type": "stream",
     "text": [
      "Enter a valid urlhttp://data.pr4e.org/romeo.txt\n",
      "But soft what light through yonder window breaks\n",
      "It is the east and Juliet is the sun\n",
      "Arise fair sun and kill the envious moon\n",
      "Who is already sick and pale with grief\n",
      "\n"
     ]
    }
   ],
   "source": [
    "\n",
    "\n",
    "\n",
    "#chapter 12 - exercise 5\n",
    "\n",
    "import socket\n",
    "\n",
    "mysock = socket.socket(socket.AF_INET, socket.SOCK_STREAM)\n",
    "user_url = input('Enter a valid url')\n",
    "url_parts = user_url.split(\"/\")\n",
    "#try:\n",
    "#mysock.connect(('data.pr4e.org', 80)) \n",
    "mysock.connect((url_parts[2],80))\n",
    "#cmd = 'GET http://data.pr4e.org/romeo.txt HTTP/1.0\\r\\n\\r\\n'.encode()\n",
    "cmd = 'GET '+ user_url +' HTTP/1.0\\r\\n\\r\\n'\n",
    "cmd = cmd.encode()\n",
    "mysock.send(cmd)\n",
    "full_data = \"\"\n",
    "while True:\n",
    "    data = mysock.recv(512) \n",
    "    if len(data) < 1:\n",
    "        break\n",
    "    # get the complete data first\n",
    "    full_data += data.decode()\n",
    "     \n",
    "    \n",
    "# break the data into lines \n",
    "lines = full_data.split(\"\\n\")\n",
    "# search for the empty line\n",
    "position = lines.index('\\r')\n",
    "\n",
    "#extracting and printing the required lines \n",
    "result_lines = lines[position+1:]\n",
    "for line in result_lines:\n",
    "    print(line)\n",
    "mysock.close()\n",
    "\n",
    "\n",
    "\n",
    "\n",
    "\n"
   ]
  },
  {
   "cell_type": "code",
   "execution_count": null,
   "metadata": {},
   "outputs": [],
   "source": []
  }
 ],
 "metadata": {
  "kernelspec": {
   "display_name": "Python 3",
   "language": "python",
   "name": "python3"
  },
  "language_info": {
   "codemirror_mode": {
    "name": "ipython",
    "version": 3
   },
   "file_extension": ".py",
   "mimetype": "text/x-python",
   "name": "python",
   "nbconvert_exporter": "python",
   "pygments_lexer": "ipython3",
   "version": "3.7.3"
  }
 },
 "nbformat": 4,
 "nbformat_minor": 2
}
