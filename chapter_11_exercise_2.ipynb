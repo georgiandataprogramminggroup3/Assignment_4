{
 "cells": [
  {
   "cell_type": "code",
   "execution_count": 1,
   "metadata": {},
   "outputs": [
    {
     "name": "stdout",
     "output_type": "stream",
     "text": [
      "38549.79497206704\n"
     ]
    }
   ],
   "source": [
    "#chapter 11 Exercise 2\n",
    "\n",
    "\n",
    "import re\n",
    "\n",
    "#function to get the average\n",
    "def getAverage(list_data):\n",
    "    sum = 0\n",
    "    for data in list_data:\n",
    "        sum += int(data)\n",
    "    return sum/len(list_data)\n",
    "\n",
    "\n",
    "f = open(\"C:\\\\Users\\\\nsush\\\\Desktop\\\\mbox.txt\")\n",
    "# regex to find the line of type: New Revision: 1708\n",
    "line_regex = \"^New\\sRevision:\\s[0-9]+\"\n",
    "# list to store all the numbers\n",
    "number_list = []\n",
    "for line in f:\n",
    "    # search for the lines \n",
    "    x= re.search(line_regex, line)\n",
    "    if x != None:\n",
    "        # search for the number within the line\n",
    "        num = re.findall(\"[0-9]+\",line)\n",
    "        # add the number to the list\n",
    "        number_list.append(num[0])\n",
    "        # find the average\n",
    "        average = getAverage(number_list)\n",
    "print(average)"
   ]
  },
  {
   "cell_type": "code",
   "execution_count": null,
   "metadata": {},
   "outputs": [],
   "source": []
  }
 ],
 "metadata": {
  "kernelspec": {
   "display_name": "Python 3",
   "language": "python",
   "name": "python3"
  },
  "language_info": {
   "codemirror_mode": {
    "name": "ipython",
    "version": 3
   },
   "file_extension": ".py",
   "mimetype": "text/x-python",
   "name": "python",
   "nbconvert_exporter": "python",
   "pygments_lexer": "ipython3",
   "version": "3.7.3"
  }
 },
 "nbformat": 4,
 "nbformat_minor": 2
}
