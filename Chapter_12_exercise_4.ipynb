{
 "cells": [
  {
   "cell_type": "code",
   "execution_count": 1,
   "metadata": {},
   "outputs": [
    {
     "name": "stdout",
     "output_type": "stream",
     "text": [
      "Enter A Valid URL : https://www.crummy.com/software/BeautifulSoup/bs4/doc/\n",
      "351\n"
     ]
    }
   ],
   "source": [
    "# Chapter 12 Exercise 4\n",
    "\n",
    "import urllib.request, urllib.parse, urllib.error\n",
    "from bs4 import BeautifulSoup\n",
    "import ssl\n",
    "# Ignore SSL certificate errors \n",
    "ctx = ssl.create_default_context() \n",
    "ctx.check_hostname = False \n",
    "ctx.verify_mode = ssl.CERT_NONE\n",
    "# ask input for the user\n",
    "url = input('Enter A Valid URL : ')\n",
    "html = urllib.request.urlopen(url, context=ctx).read() \n",
    "soup = BeautifulSoup(html, 'html.parser')\n",
    "# Retrieve all of the p tags\n",
    "tags = soup.find_all('p') \n",
    "# print(len(tags)) # this works as well to count the number of p tags \n",
    "count = 0\n",
    "for tag in tags:\n",
    "    #print(tag.get('href', None))\n",
    "    count += 1\n",
    "    #print(tag.get('',None))\n",
    "print(count)"
   ]
  },
  {
   "cell_type": "code",
   "execution_count": null,
   "metadata": {},
   "outputs": [],
   "source": []
  }
 ],
 "metadata": {
  "kernelspec": {
   "display_name": "Python 3",
   "language": "python",
   "name": "python3"
  },
  "language_info": {
   "codemirror_mode": {
    "name": "ipython",
    "version": 3
   },
   "file_extension": ".py",
   "mimetype": "text/x-python",
   "name": "python",
   "nbconvert_exporter": "python",
   "pygments_lexer": "ipython3",
   "version": "3.7.3"
  }
 },
 "nbformat": 4,
 "nbformat_minor": 2
}
