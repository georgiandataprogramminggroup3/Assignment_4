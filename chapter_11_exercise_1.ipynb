{
 "cells": [
  {
   "cell_type": "code",
   "execution_count": 1,
   "metadata": {},
   "outputs": [
    {
     "name": "stdout",
     "output_type": "stream",
     "text": [
      "Enter a regular expression \n",
      "^Received\n",
      "mbox.txt had 16173 lines that matched ^Received\n"
     ]
    }
   ],
   "source": [
    "#chapter 11 Exercise 1\n",
    "\n",
    "import re\n",
    "regex = input('Enter a regular expression \\n')\n",
    "count = 0\n",
    "try:\n",
    "    f = open(\"C:\\\\Users\\\\nsush\\\\Desktop\\\\mbox.txt\")\n",
    "    for line in f:\n",
    "        x= re.search(regex,line)\n",
    "        if x != None:\n",
    "            count += 1\n",
    "    print(\"mbox.txt had \" +str(count) +\" lines that matched \"+ regex)\n",
    "except:\n",
    "    print(\"No file found\")"
   ]
  },
  {
   "cell_type": "code",
   "execution_count": null,
   "metadata": {},
   "outputs": [],
   "source": []
  }
 ],
 "metadata": {
  "kernelspec": {
   "display_name": "Python 3",
   "language": "python",
   "name": "python3"
  },
  "language_info": {
   "codemirror_mode": {
    "name": "ipython",
    "version": 3
   },
   "file_extension": ".py",
   "mimetype": "text/x-python",
   "name": "python",
   "nbconvert_exporter": "python",
   "pygments_lexer": "ipython3",
   "version": "3.7.3"
  }
 },
 "nbformat": 4,
 "nbformat_minor": 2
}
